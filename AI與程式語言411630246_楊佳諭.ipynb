{
  "nbformat": 4,
  "nbformat_minor": 0,
  "metadata": {
    "colab": {
      "provenance": [],
      "collapsed_sections": [],
      "authorship_tag": "ABX9TyPoI4FcKQUruVK3zAcYT3sy",
      "include_colab_link": true
    },
    "kernelspec": {
      "name": "python3",
      "display_name": "Python 3"
    },
    "language_info": {
      "name": "python"
    }
  },
  "cells": [
    {
      "cell_type": "markdown",
      "metadata": {
        "id": "view-in-github",
        "colab_type": "text"
      },
      "source": [
        "<a href=\"https://colab.research.google.com/github/chiayuer/TKU-AI-411630246/blob/main/AI%E8%88%87%E7%A8%8B%E5%BC%8F%E8%AA%9E%E8%A8%80411630246_%E6%A5%8A%E4%BD%B3%E8%AB%AD.ipynb\" target=\"_parent\"><img src=\"https://colab.research.google.com/assets/colab-badge.svg\" alt=\"Open In Colab\"/></a>"
      ]
    },
    {
      "cell_type": "code",
      "execution_count": 20,
      "metadata": {
        "id": "ndUTHfeL8glD",
        "colab": {
          "base_uri": "https://localhost:8080/"
        },
        "outputId": "87317835-f5b0-4c93-807d-9429b3263fc9"
      },
      "outputs": [
        {
          "output_type": "stream",
          "name": "stdout",
          "text": [
            "請輸入身高(公尺):1.66\n",
            "請輸入體重(公斤):45\n",
            "BMI=  16.330381768036002\n",
            "!!體重過輕!!\n",
            "\n",
            "\n",
            "輕度工作者請填 1\n",
            "中度工作者請填 2\n",
            "重度工作者請填 3\n",
            "請自行評估工作量:2\n",
            "\n",
            "\n",
            "你每日所需攝取的熱量為  1800.0  大卡\n",
            "\n",
            "\n",
            "----------以下是吃三餐有選擇障礙的人的救贖-----------\n",
            "---------------會隨機提供您三餐的建議----------------\n",
            "------不一定都是健康食物，需要體重控管者請三思-------\n",
            "\n",
            "\n",
            "請問您是要用早餐、午餐還是晚餐呢(請勿輸入早餐、午餐、晚餐以外的文字)？\n",
            "早餐\n",
            "建議早餐: 火腿蛋吐司\n",
            "\n",
            "\n",
            "請問您是否滿意推薦的餐點(請輸入是或否)？否\n",
            "\n",
            "\n",
            "建議早餐: 麥片\n",
            "\n",
            "\n",
            "請問您是否滿意推薦的餐點(請輸入是或否)？是\n",
            "祝您是用餐愉快！\n"
          ]
        }
      ],
      "source": [
        "import random\n",
        "#首先計算BMI\n",
        "h=float(input(\"請輸入身高(公尺):\"))\n",
        "w=float(input(\"請輸入體重(公斤):\"))\n",
        "BMI=w/h**2\n",
        "print(\"BMI= \",BMI)\n",
        "\n",
        "if BMI<18.5:\n",
        "  print(\"!!體重過輕!!\")\n",
        "elif 18.5<=BMI<27:\n",
        "  print(\"體重正常ヽ(✿ﾟ▽ﾟ)ノ\")\n",
        "else:\n",
        "  print(\"!!體重過重or肥胖!!\")\n",
        "print(\"\\n\")\n",
        "print(\"輕度工作者請填 1\")\n",
        "print(\"中度工作者請填 2\")\n",
        "print(\"重度工作者請填 3\")\n",
        "workload=int(input(\"請自行評估工作量:\"))\n",
        "while workload>3:\n",
        "  workload=int(input(\"錯誤！請再輸入一次工作量:\"))\n",
        "print(\"\\n\")\n",
        "if BMI<18.5 and workload==1:\n",
        "  print(\"你每日所需攝取的熱量為 \", 35*w,\" 大卡\")\n",
        "elif BMI<18.5 and workload==2:\n",
        "  print(\"你每日所需攝取的熱量為 \", 40*w,\" 大卡\")\n",
        "elif BMI<18.5 and workload==3:\n",
        "  print(\"你每日所需攝取的熱量為 \", 45*w,\" 大卡\")\n",
        "elif 18.5<=BMI<27 and workload==1:\n",
        "  print(\"你每日所需攝取的熱量為 \", 30*w,\" 大卡\")\n",
        "elif 18.5<=BMI<27 and workload==2:\n",
        "  print(\"你每日所需攝取的熱量為 \", 35*w,\" 大卡\")\n",
        "elif 18.5<=BMI<27 and workload==3:\n",
        "  print(\"你每日所需攝取的熱量為 \", 40*w,\" 大卡\")\n",
        "elif BMI>=27 and workload==1:\n",
        "  print(\"你每日所需攝取的熱量為 \", 22.5*w,\" 大卡，請注意飲食控管！並減少食用油炸等高熱量食物。\")\n",
        "elif BMI>=27 and workload==2:\n",
        "  print(\"你每日所需攝取的熱量為 \", 30*w,\" 大卡，請注意飲食控管！並減少食用油炸等高熱量食物。\")\n",
        "else:\n",
        "  print(\"你每日所需攝取的熱量為 \", 35*w,\" 大卡，請注意飲食控管！並減少食用油炸等高熱量食物。\")\n",
        "print(\"\\n\")\n",
        "print(\"----------以下是吃三餐有選擇障礙的人的救贖-----------\")\n",
        "print(\"---------------會隨機提供您三餐的建議----------------\")\n",
        "print(\"------不一定都是健康食物，需要體重控管者請三思-------\")\n",
        "print(\"\\n\")\n",
        "list1=[\"豆漿\",\"麥片\",\"水煮蛋\",\"全麥土司兩片\",\"蛋餅\",\"生菜沙拉\",\"火腿蛋吐司\",\"饅頭\"]\n",
        "list2=[\"燙青菜\",\"陽春麵\",\"米糕\",\"碗粿\",\"廣東粥\",\"鍋燒意麵\",\"水餃\",\"餛飩麵\",\"滷肉飯\"]\n",
        "list3=[\"排骨便當\",\"義大利麵\",\"切仔麵\",\"擔仔麵\",\"鐵板燒\",\"關東煮\",\"壽司\",\"小火鍋\"]\n",
        "def selectRandom(list1):\n",
        "  return random.choice(list1)\n",
        "def selectRandom(list2):\n",
        "  return random.choice(list2)\n",
        "def selectRandom(list3):\n",
        "  return random.choice(list3)\n",
        "\n",
        "food=str(input(\"請問您是要用早餐、午餐還是晚餐呢(請勿輸入早餐、午餐、晚餐以外的文字)？\\n\"))\n",
        "if food==\"早餐\":\n",
        "  print(\"建議早餐:\",selectRandom(list1))\n",
        "elif food==\"午餐\":\n",
        "  print(\"建議午餐:\",selectRandom(list2))\n",
        "else:\n",
        "  ylprint(\"建議晚餐:\",selectRandom(list3))\n",
        "print(\"\\n\")\n",
        "QA=str(input(\"請問您是否滿意推薦的餐點(請輸入是或否)？\"))\n",
        "\n",
        "while QA==\"否\":\n",
        "  if food==\"早餐\":\n",
        "    print(\"\\n\")\n",
        "    print(\"建議早餐:\",selectRandom(list1))\n",
        "  elif food==\"午餐\":\n",
        "    print(\"\\n\")\n",
        "    print(\"建議午餐:\",selectRandom(list2))\n",
        "  else:\n",
        "    print(\"\\n\")\n",
        "    print(\"建議晚餐:\",selectRandom(list3))\n",
        "  print(\"\\n\")\n",
        "  QA=str(input(\"請問您是否滿意推薦的餐點(請輸入是或否)？\"))\n",
        "if QA==\"是\":\n",
        "  print(\"祝您\"+QA+\"用餐愉快！\")"
      ]
    }
  ]
}